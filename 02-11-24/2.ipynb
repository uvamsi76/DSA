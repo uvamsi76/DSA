{
 "cells": [
  {
   "cell_type": "code",
   "execution_count": 70,
   "metadata": {},
   "outputs": [],
   "source": [
    "def findpeak(arr):\n",
    "    n=len(arr)\n",
    "    low=0\n",
    "    high=n-1\n",
    "    if(n==1):\n",
    "        return 0\n",
    "    if(arr[0]>arr[1]):\n",
    "        return 0\n",
    "    if(arr[n-1]>arr[n-2]):\n",
    "        return n-1\n",
    "    while(low<=high):\n",
    "        print(low,high)\n",
    "        mid=(low+high)//2\n",
    "        if(arr[mid-1]<arr[mid] and arr[mid]>arr[mid+1]):\n",
    "            return mid\n",
    "        if(arr[mid-1]<arr[mid]):\n",
    "            low=mid+1\n",
    "        else:\n",
    "            high=mid\n",
    "    return 0\n"
   ]
  },
  {
   "cell_type": "code",
   "execution_count": 71,
   "metadata": {},
   "outputs": [],
   "source": [
    "arr=[1,2,1,2,1]"
   ]
  },
  {
   "cell_type": "code",
   "execution_count": 72,
   "metadata": {},
   "outputs": [
    {
     "name": "stdout",
     "output_type": "stream",
     "text": [
      "0 4\n",
      "0 2\n"
     ]
    },
    {
     "data": {
      "text/plain": [
       "1"
      ]
     },
     "execution_count": 72,
     "metadata": {},
     "output_type": "execute_result"
    }
   ],
   "source": [
    "findpeak(arr)"
   ]
  },
  {
   "cell_type": "code",
   "execution_count": null,
   "metadata": {},
   "outputs": [],
   "source": []
  }
 ],
 "metadata": {
  "kernelspec": {
   "display_name": "venv",
   "language": "python",
   "name": "python3"
  },
  "language_info": {
   "codemirror_mode": {
    "name": "ipython",
    "version": 3
   },
   "file_extension": ".py",
   "mimetype": "text/x-python",
   "name": "python",
   "nbconvert_exporter": "python",
   "pygments_lexer": "ipython3",
   "version": "3.11.0"
  }
 },
 "nbformat": 4,
 "nbformat_minor": 2
}
