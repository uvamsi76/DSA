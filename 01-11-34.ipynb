{
 "cells": [
  {
   "cell_type": "code",
   "execution_count": 3,
   "metadata": {},
   "outputs": [],
   "source": [
    "def find2element(a):\n",
    "    s=0\n",
    "    s2=0\n",
    "    n=len(a)\n",
    "    for i in range(n):\n",
    "        s+=a[i]\n",
    "        s2+=a[i]*a[i]\n",
    "    sn=(n*(n+1))//2\n",
    "    s2n=(n*(n+1)*(2*n+1))//6\n",
    "    v1=s-sn\n",
    "    v2=s2-s2n\n",
    "    v2=v2//v1\n",
    "    x=(v1+v2)//2\n",
    "    y=x-v1\n",
    "    return [x,y]"
   ]
  },
  {
   "cell_type": "code",
   "execution_count": 4,
   "metadata": {},
   "outputs": [
    {
     "data": {
      "text/plain": [
       "[2, 1]"
      ]
     },
     "execution_count": 4,
     "metadata": {},
     "output_type": "execute_result"
    }
   ],
   "source": [
    "find2element([2,2])"
   ]
  },
  {
   "cell_type": "code",
   "execution_count": 5,
   "metadata": {},
   "outputs": [],
   "source": [
    "from collections import defaultdict"
   ]
  },
  {
   "cell_type": "code",
   "execution_count": 34,
   "metadata": {},
   "outputs": [],
   "source": [
    "def merge(arr,low,mid,high):\n",
    "    temp=[]\n",
    "    cnt=0\n",
    "    i=low\n",
    "    j=mid+1\n",
    "    while(i<=mid and j<=high):\n",
    "        if(arr[i]<=arr[j]):\n",
    "            temp.append(arr[i])\n",
    "            i+=1\n",
    "        else:\n",
    "            cnt+=mid-i+1\n",
    "            temp.append(arr[j])\n",
    "            j+=1\n",
    "    while(i<=mid):\n",
    "        temp.append(arr[i])\n",
    "        i+=1\n",
    "    while(j<=high):\n",
    "        temp.append(arr[j])\n",
    "        j+=1\n",
    "    for i in range(low,high+1):\n",
    "        arr[i]=temp[i-low]\n",
    "    return cnt"
   ]
  },
  {
   "cell_type": "code",
   "execution_count": 35,
   "metadata": {},
   "outputs": [],
   "source": [
    "def mergesort(arr,low,high):\n",
    "    cnt=0\n",
    "    print(low,high)\n",
    "    if(low==high):\n",
    "        return cnt\n",
    "    mid=(low+high)//2\n",
    "    cnt+=mergesort(arr,low,mid)\n",
    "    cnt+=mergesort(arr,mid+1,high)\n",
    "    cnt+=merge(arr,low,mid,high)\n",
    "    return cnt"
   ]
  },
  {
   "cell_type": "code",
   "execution_count": 36,
   "metadata": {},
   "outputs": [],
   "source": [
    "a=[2,2,2]"
   ]
  },
  {
   "cell_type": "code",
   "execution_count": 37,
   "metadata": {},
   "outputs": [
    {
     "name": "stdout",
     "output_type": "stream",
     "text": [
      "0 2\n",
      "0 1\n",
      "0 0\n",
      "1 1\n",
      "2 2\n"
     ]
    },
    {
     "data": {
      "text/plain": [
       "0"
      ]
     },
     "execution_count": 37,
     "metadata": {},
     "output_type": "execute_result"
    }
   ],
   "source": [
    "mergesort(a,0,len(a)-1)"
   ]
  },
  {
   "cell_type": "code",
   "execution_count": 15,
   "metadata": {},
   "outputs": [
    {
     "data": {
      "text/plain": [
       "[1, 2, 3, 4, 5]"
      ]
     },
     "execution_count": 15,
     "metadata": {},
     "output_type": "execute_result"
    }
   ],
   "source": [
    "a"
   ]
  },
  {
   "cell_type": "code",
   "execution_count": 22,
   "metadata": {},
   "outputs": [],
   "source": [
    "def inversioncount(arr):\n",
    "    return mergesort(arr,0,len(arr)-1)"
   ]
  },
  {
   "cell_type": "code",
   "execution_count": 28,
   "metadata": {},
   "outputs": [
    {
     "name": "stdout",
     "output_type": "stream",
     "text": [
      "0 4\n",
      "0 2\n",
      "0 1\n",
      "0 0\n",
      "1 1\n",
      "2 2\n",
      "3 4\n",
      "3 3\n",
      "4 4\n"
     ]
    },
    {
     "data": {
      "text/plain": [
       "3"
      ]
     },
     "execution_count": 28,
     "metadata": {},
     "output_type": "execute_result"
    }
   ],
   "source": [
    "inversioncount(a)"
   ]
  },
  {
   "cell_type": "code",
   "execution_count": 38,
   "metadata": {},
   "outputs": [],
   "source": [
    "def max_product_subarray(arr):\n",
    "    multi=-2*10**31\n",
    "    p=1\n",
    "    s=1\n",
    "    n=len(arr)\n",
    "    for i in range(n):\n",
    "        if(p==0):\n",
    "            p=1\n",
    "        if(s==0):\n",
    "            s=1\n",
    "        p=p*arr[i]\n",
    "        s=s*arr[n-i-1]\n",
    "        multi=max(multi,p,s)\n",
    "    return multi"
   ]
  },
  {
   "cell_type": "code",
   "execution_count": 42,
   "metadata": {},
   "outputs": [],
   "source": [
    "a=[-2,0,-1]"
   ]
  },
  {
   "cell_type": "code",
   "execution_count": 43,
   "metadata": {},
   "outputs": [
    {
     "data": {
      "text/plain": [
       "0"
      ]
     },
     "execution_count": 43,
     "metadata": {},
     "output_type": "execute_result"
    }
   ],
   "source": [
    "max_product_subarray(a)"
   ]
  },
  {
   "cell_type": "code",
   "execution_count": null,
   "metadata": {},
   "outputs": [],
   "source": []
  }
 ],
 "metadata": {
  "kernelspec": {
   "display_name": "venv",
   "language": "python",
   "name": "python3"
  },
  "language_info": {
   "codemirror_mode": {
    "name": "ipython",
    "version": 3
   },
   "file_extension": ".py",
   "mimetype": "text/x-python",
   "name": "python",
   "nbconvert_exporter": "python",
   "pygments_lexer": "ipython3",
   "version": "3.11.0"
  }
 },
 "nbformat": 4,
 "nbformat_minor": 2
}
