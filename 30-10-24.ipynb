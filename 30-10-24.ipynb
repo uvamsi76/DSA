{
 "cells": [
  {
   "cell_type": "code",
   "execution_count": 21,
   "metadata": {},
   "outputs": [
    {
     "data": {
      "text/plain": [
       "6"
      ]
     },
     "execution_count": 21,
     "metadata": {},
     "output_type": "execute_result"
    }
   ],
   "source": [
    "4^2"
   ]
  },
  {
   "cell_type": "code",
   "execution_count": 2,
   "metadata": {},
   "outputs": [
    {
     "data": {
      "text/plain": [
       "[1, 2, 3, 4, 5, 6]"
      ]
     },
     "execution_count": 2,
     "metadata": {},
     "output_type": "execute_result"
    }
   ],
   "source": [
    "[4, 2, 2, 6, 4] 6"
   ]
  },
  {
   "cell_type": "code",
   "execution_count": 13,
   "metadata": {},
   "outputs": [],
   "source": [
    "d={0:1}"
   ]
  },
  {
   "cell_type": "code",
   "execution_count": 15,
   "metadata": {},
   "outputs": [],
   "source": [
    "d[10]=1"
   ]
  },
  {
   "cell_type": "code",
   "execution_count": 16,
   "metadata": {},
   "outputs": [
    {
     "data": {
      "text/plain": [
       "1"
      ]
     },
     "execution_count": 16,
     "metadata": {},
     "output_type": "execute_result"
    }
   ],
   "source": [
    "d[10]"
   ]
  },
  {
   "cell_type": "code",
   "execution_count": 48,
   "metadata": {},
   "outputs": [],
   "source": [
    "from collections import defaultdict"
   ]
  },
  {
   "cell_type": "code",
   "execution_count": 59,
   "metadata": {},
   "outputs": [],
   "source": [
    "d=defaultdict(int)"
   ]
  },
  {
   "cell_type": "code",
   "execution_count": 61,
   "metadata": {},
   "outputs": [],
   "source": [
    "d[0]=1"
   ]
  },
  {
   "cell_type": "code",
   "execution_count": 62,
   "metadata": {},
   "outputs": [
    {
     "data": {
      "text/plain": [
       "defaultdict(int, {10: 0, 0: 1})"
      ]
     },
     "execution_count": 62,
     "metadata": {},
     "output_type": "execute_result"
    }
   ],
   "source": [
    "d"
   ]
  },
  {
   "cell_type": "code",
   "execution_count": 51,
   "metadata": {},
   "outputs": [],
   "source": [
    "def subarraysWithXorK(a: [int], b: int) -> int:\n",
    "    n = len(a) # size of the given array.\n",
    "    xr = 0\n",
    "    mpp = defaultdict(int) # declaring the dictionary.\n",
    "    mpp[xr] = 1 # setting the value of 0.\n",
    "    cnt = 0\n",
    "\n",
    "    for i in range(n):\n",
    "        # prefix XOR till index i:\n",
    "        xr = xr ^ a[i]\n",
    "\n",
    "        # By formula: x = xr^k:\n",
    "        x = xr ^ b\n",
    "\n",
    "        # add the occurrence of xr^k\n",
    "        # to the count:\n",
    "        cnt += mpp[x]\n",
    "\n",
    "        # Insert the prefix xor till index i\n",
    "        # into the dictionary:\n",
    "        mpp[xr] += 1\n",
    "\n",
    "    return cnt"
   ]
  },
  {
   "cell_type": "code",
   "execution_count": 52,
   "metadata": {},
   "outputs": [
    {
     "data": {
      "text/plain": [
       "2"
      ]
     },
     "execution_count": 52,
     "metadata": {},
     "output_type": "execute_result"
    }
   ],
   "source": [
    "subarraysWithXorK([5, 6, 7, 8, 9],5)"
   ]
  },
  {
   "cell_type": "code",
   "execution_count": 70,
   "metadata": {},
   "outputs": [],
   "source": [
    "def noofsubarray(a,k):\n",
    "    d=defaultdict(int)\n",
    "    n=len(a)\n",
    "    cnt=0\n",
    "    xor=0\n",
    "    d[xor]=1\n",
    "    for i in range(n):\n",
    "        xor=xor^a[i]\n",
    "        cnt+=d[xor^k]\n",
    "        d[xor]+=1\n",
    "    return cnt"
   ]
  },
  {
   "cell_type": "code",
   "execution_count": 71,
   "metadata": {},
   "outputs": [
    {
     "data": {
      "text/plain": [
       "2"
      ]
     },
     "execution_count": 71,
     "metadata": {},
     "output_type": "execute_result"
    }
   ],
   "source": [
    "noofsubarray([5, 6, 7, 8, 9],5)"
   ]
  },
  {
   "cell_type": "code",
   "execution_count": 47,
   "metadata": {},
   "outputs": [
    {
     "data": {
      "text/plain": [
       "5"
      ]
     },
     "execution_count": 47,
     "metadata": {},
     "output_type": "execute_result"
    }
   ],
   "source": [
    "6^ 7^ 8^ 9^5"
   ]
  },
  {
   "cell_type": "code",
   "execution_count": null,
   "metadata": {},
   "outputs": [],
   "source": [
    "sa-s=x-y\n",
    "sa2-s2/sa-s=x+y"
   ]
  },
  {
   "cell_type": "markdown",
   "metadata": {},
   "source": [
    "missing and repeating"
   ]
  },
  {
   "cell_type": "code",
   "execution_count": 102,
   "metadata": {},
   "outputs": [],
   "source": [
    "def findmr(a):\n",
    "    s=0\n",
    "    n=len(a)\n",
    "    sn=(n*(n+1))//2\n",
    "    s2n=(n*(n+1)*(2*n+1))//6\n",
    "    s=0\n",
    "    s2=0\n",
    "    for i in range(n):\n",
    "        s+=a[i]\n",
    "        s2+=a[i]*a[i]\n",
    "    v1=(s-sn)\n",
    "    v2=(s2-s2n)\n",
    "    v2=v2//v1\n",
    "    x=(v1+v2)//2\n",
    "    y=x-v1\n",
    "    return x,y"
   ]
  },
  {
   "cell_type": "code",
   "execution_count": 103,
   "metadata": {},
   "outputs": [
    {
     "data": {
      "text/plain": [
       "(2, 1)"
      ]
     },
     "execution_count": 103,
     "metadata": {},
     "output_type": "execute_result"
    }
   ],
   "source": [
    "findmr([2, 2])"
   ]
  },
  {
   "cell_type": "code",
   "execution_count": null,
   "metadata": {},
   "outputs": [],
   "source": []
  }
 ],
 "metadata": {
  "kernelspec": {
   "display_name": "venv",
   "language": "python",
   "name": "python3"
  },
  "language_info": {
   "codemirror_mode": {
    "name": "ipython",
    "version": 3
   },
   "file_extension": ".py",
   "mimetype": "text/x-python",
   "name": "python",
   "nbconvert_exporter": "python",
   "pygments_lexer": "ipython3",
   "version": "3.11.0"
  }
 },
 "nbformat": 4,
 "nbformat_minor": 2
}
