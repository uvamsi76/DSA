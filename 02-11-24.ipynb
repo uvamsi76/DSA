{
 "cells": [
  {
   "cell_type": "code",
   "execution_count": 16,
   "metadata": {},
   "outputs": [],
   "source": [
    "def binary_search(arr,k):\n",
    "    low=0\n",
    "    high=len(arr)\n",
    "    while(low<high):\n",
    "        mid=(low+high)//2\n",
    "        if(arr[mid]==k):\n",
    "            return mid\n",
    "        if(arr[mid]<k):\n",
    "            low=mid+1\n",
    "        elif(arr[mid]>k):\n",
    "            high=mid-1\n",
    "    return -1"
   ]
  },
  {
   "cell_type": "code",
   "execution_count": 43,
   "metadata": {},
   "outputs": [],
   "source": [
    "def search(arr,k):\n",
    "    n=len(arr)-1\n",
    "    low=0\n",
    "    high=n\n",
    "    while(low<=high):\n",
    "        mid=(low+high)//2\n",
    "        if(arr[mid]==k):\n",
    "            return mid\n",
    "        if(arr[low]==arr[mid]==arr[high]):\n",
    "            low=low+1\n",
    "            high=high-1\n",
    "        elif(arr[low]<=arr[mid]):\n",
    "            if(arr[low]<=k and k<=arr[mid]):\n",
    "                high=mid-1\n",
    "            else:\n",
    "                low=mid+1\n",
    "        elif(arr[mid]<=arr[high]):\n",
    "            if(arr[mid]<=k and k<=arr[high]):\n",
    "                low=mid+1\n",
    "            else:\n",
    "                high=mid-1\n",
    "    return -1"
   ]
  },
  {
   "cell_type": "code",
   "execution_count": 44,
   "metadata": {},
   "outputs": [],
   "source": [
    "a=[1,2,3,4,5,6,7]"
   ]
  },
  {
   "cell_type": "code",
   "execution_count": 45,
   "metadata": {},
   "outputs": [
    {
     "data": {
      "text/plain": [
       "6"
      ]
     },
     "execution_count": 45,
     "metadata": {},
     "output_type": "execute_result"
    }
   ],
   "source": [
    "binary_search(a,7)"
   ]
  },
  {
   "cell_type": "code",
   "execution_count": 49,
   "metadata": {},
   "outputs": [],
   "source": [
    "a=[4,4,4,5,1,1,2,2,3,3,4,4,4,4]"
   ]
  },
  {
   "cell_type": "code",
   "execution_count": 47,
   "metadata": {},
   "outputs": [
    {
     "data": {
      "text/plain": [
       "3"
      ]
     },
     "execution_count": 47,
     "metadata": {},
     "output_type": "execute_result"
    }
   ],
   "source": [
    "search(a,5)"
   ]
  },
  {
   "cell_type": "code",
   "execution_count": 56,
   "metadata": {},
   "outputs": [],
   "source": [
    "def find_min(arr):\n",
    "    n=len(arr)-1\n",
    "    low=0\n",
    "    high=n\n",
    "    m=2*10**31\n",
    "    while(low<=high):\n",
    "        mid=(low+high)//2\n",
    "        if(arr[low]<=arr[mid]):\n",
    "            m=min(m,arr[low])\n",
    "            low=mid+1\n",
    "        elif(arr[mid]<=arr[high]):\n",
    "            m=min(m,arr[mid])\n",
    "            high=mid-1\n",
    "    return m"
   ]
  },
  {
   "cell_type": "code",
   "execution_count": 57,
   "metadata": {},
   "outputs": [],
   "source": [
    "b=[4,5,6,7,0,1,2]"
   ]
  },
  {
   "cell_type": "code",
   "execution_count": 58,
   "metadata": {},
   "outputs": [
    {
     "data": {
      "text/plain": [
       "0"
      ]
     },
     "execution_count": 58,
     "metadata": {},
     "output_type": "execute_result"
    }
   ],
   "source": [
    "find_min(b)"
   ]
  },
  {
   "cell_type": "code",
   "execution_count": null,
   "metadata": {},
   "outputs": [],
   "source": []
  }
 ],
 "metadata": {
  "kernelspec": {
   "display_name": "venv",
   "language": "python",
   "name": "python3"
  },
  "language_info": {
   "codemirror_mode": {
    "name": "ipython",
    "version": 3
   },
   "file_extension": ".py",
   "mimetype": "text/x-python",
   "name": "python",
   "nbconvert_exporter": "python",
   "pygments_lexer": "ipython3",
   "version": "3.11.0"
  }
 },
 "nbformat": 4,
 "nbformat_minor": 2
}
