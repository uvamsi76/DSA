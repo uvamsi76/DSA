{
 "cells": [
  {
   "cell_type": "code",
   "execution_count": 2,
   "metadata": {},
   "outputs": [
    {
     "name": "stdout",
     "output_type": "stream",
     "text": [
      "testing\n"
     ]
    }
   ],
   "source": [
    "print ('testing')\n",
    "import time\n",
    "import sys"
   ]
  },
  {
   "cell_type": "markdown",
   "metadata": {},
   "source": [
    "Linear search"
   ]
  },
  {
   "cell_type": "code",
   "execution_count": 13,
   "metadata": {},
   "outputs": [],
   "source": [
    "def linear_search(array,value):\n",
    "    ini=time.time()\n",
    "    for i,a in enumerate(array):\n",
    "        if a==value:\n",
    "            end=time.time()\n",
    "            print((end-ini)*1000)\n",
    "            return i\n",
    "    end=time.time()\n",
    "    print((end-ini)*1000)\n",
    "    return -1    "
   ]
  },
  {
   "cell_type": "code",
   "execution_count": 23,
   "metadata": {},
   "outputs": [],
   "source": [
    "a=[i for i in range(10000001)]"
   ]
  },
  {
   "cell_type": "code",
   "execution_count": 15,
   "metadata": {},
   "outputs": [
    {
     "data": {
      "text/plain": [
       "84.96776580810547"
      ]
     },
     "execution_count": 15,
     "metadata": {},
     "output_type": "execute_result"
    }
   ],
   "source": [
    "sys.getsizeof(a)/1048576"
   ]
  },
  {
   "cell_type": "markdown",
   "metadata": {},
   "source": [
    "binary search"
   ]
  },
  {
   "cell_type": "code",
   "execution_count": 16,
   "metadata": {},
   "outputs": [],
   "source": [
    "def binary_search(array,value):\n",
    "    ini=time.time()\n",
    "    arr=sorted(array)\n",
    "    l=len(arr)\n",
    "    mid= l//2\n",
    "    if(arr[mid]==value):\n",
    "        end=time.time()\n",
    "        print((end-ini)*1000)\n",
    "        return mid\n",
    "    if(l<2 and arr[mid]!=value):\n",
    "        end=time.time()\n",
    "        print((end-ini)*1000)\n",
    "        return -1\n",
    "    if(arr[mid]>value):\n",
    "        x=binary_search(arr[:mid],value)\n",
    "        if(x==-1):\n",
    "            return -1\n",
    "        return x\n",
    "    if(arr[mid]<value):\n",
    "        x=binary_search(arr[mid:],value)\n",
    "        if(x==-1):\n",
    "            return -1\n",
    "        return mid + x\n",
    "    else:\n",
    "        end=time.time()\n",
    "        print((end-ini)*1000)\n",
    "        return -1"
   ]
  },
  {
   "cell_type": "code",
   "execution_count": 21,
   "metadata": {},
   "outputs": [],
   "source": [
    "def inbuilt_search(array,value):\n",
    "    ini=time.time()\n",
    "    index = array.index(value)\n",
    "    end=time.time()\n",
    "    print((end-ini)*1000)\n",
    "    return index"
   ]
  },
  {
   "cell_type": "code",
   "execution_count": 27,
   "metadata": {},
   "outputs": [
    {
     "name": "stdout",
     "output_type": "stream",
     "text": [
      "0.0\n"
     ]
    },
    {
     "data": {
      "text/plain": [
       "10000000"
      ]
     },
     "execution_count": 27,
     "metadata": {},
     "output_type": "execute_result"
    }
   ],
   "source": [
    "binary_search(a,10000000)"
   ]
  },
  {
   "cell_type": "code",
   "execution_count": 28,
   "metadata": {},
   "outputs": [
    {
     "name": "stdout",
     "output_type": "stream",
     "text": [
      "628.0431747436523\n"
     ]
    },
    {
     "data": {
      "text/plain": [
       "10000000"
      ]
     },
     "execution_count": 28,
     "metadata": {},
     "output_type": "execute_result"
    }
   ],
   "source": [
    "linear_search(a,10000000)"
   ]
  },
  {
   "cell_type": "code",
   "execution_count": 29,
   "metadata": {},
   "outputs": [
    {
     "name": "stdout",
     "output_type": "stream",
     "text": [
      "146.3634967803955\n"
     ]
    },
    {
     "data": {
      "text/plain": [
       "10000000"
      ]
     },
     "execution_count": 29,
     "metadata": {},
     "output_type": "execute_result"
    }
   ],
   "source": [
    "inbuilt_search(a,10000000)"
   ]
  },
  {
   "cell_type": "markdown",
   "metadata": {},
   "source": [
    "Recursion"
   ]
  },
  {
   "cell_type": "code",
   "execution_count": 281,
   "metadata": {},
   "outputs": [],
   "source": [
    "def fn(a,ds,m,ans,i):\n",
    "    if(len(ds)==len(a)):\n",
    "        print('base reached')\n",
    "        ans.append(ds[:])\n",
    "        return ans\n",
    "    for i in range(len(a)):\n",
    "        # print(i)\n",
    "        # print(i,m)\n",
    "        if(not m[i]):\n",
    "            ds.append(a[i])\n",
    "            m[i]=1\n",
    "            ans=fn(a,ds,m,ans,i)\n",
    "            ds.pop()\n",
    "            m[i]=0\n",
    "            # ans.append(ds)\n",
    "    return ans"
   ]
  },
  {
   "cell_type": "code",
   "execution_count": 282,
   "metadata": {},
   "outputs": [],
   "source": [
    "def nextperm(a,b):\n",
    "    ds=[]\n",
    "    m=[0 for i in range(len(a))]\n",
    "    ans=[]\n",
    "    perms=fn(a,ds,m,ans,0)\n",
    "    for i in range(len(perms)):\n",
    "        if(perms[i]==b and perms[i]!=perms[-1]):\n",
    "            return perms[i+1]\n",
    "        elif(perms[i]==b and perms[i] == perms[-1]):\n",
    "            return perms[0]\n",
    "    return -1\n"
   ]
  },
  {
   "cell_type": "code",
   "execution_count": 279,
   "metadata": {},
   "outputs": [],
   "source": [
    "# fn([1,2,3],[],[0 for i in range(a)],[],0)"
   ]
  },
  {
   "cell_type": "code",
   "execution_count": 284,
   "metadata": {},
   "outputs": [
    {
     "name": "stdout",
     "output_type": "stream",
     "text": [
      "base reached\n",
      "base reached\n",
      "base reached\n",
      "base reached\n",
      "base reached\n",
      "base reached\n"
     ]
    },
    {
     "data": {
      "text/plain": [
       "-1"
      ]
     },
     "execution_count": 284,
     "metadata": {},
     "output_type": "execute_result"
    }
   ],
   "source": [
    "nextperm([1,2,3],[3,2])"
   ]
  },
  {
   "cell_type": "code",
   "execution_count": 285,
   "metadata": {},
   "outputs": [],
   "source": [
    "a=[1,2,3,4]\n",
    "ds=[]\n",
    "m=[0 for i in range(len(a))]\n",
    "ans=[]"
   ]
  },
  {
   "cell_type": "code",
   "execution_count": 286,
   "metadata": {},
   "outputs": [
    {
     "name": "stdout",
     "output_type": "stream",
     "text": [
      "base reached\n",
      "base reached\n",
      "base reached\n",
      "base reached\n",
      "base reached\n",
      "base reached\n",
      "base reached\n",
      "base reached\n",
      "base reached\n",
      "base reached\n",
      "base reached\n",
      "base reached\n",
      "base reached\n",
      "base reached\n",
      "base reached\n",
      "base reached\n",
      "base reached\n",
      "base reached\n",
      "base reached\n",
      "base reached\n",
      "base reached\n",
      "base reached\n",
      "base reached\n",
      "base reached\n"
     ]
    }
   ],
   "source": [
    "answer=fn(a,ds,m,ans,0)"
   ]
  },
  {
   "cell_type": "code",
   "execution_count": 287,
   "metadata": {},
   "outputs": [
    {
     "data": {
      "text/plain": [
       "[[1, 2, 3, 4],\n",
       " [1, 2, 4, 3],\n",
       " [1, 3, 2, 4],\n",
       " [1, 3, 4, 2],\n",
       " [1, 4, 2, 3],\n",
       " [1, 4, 3, 2],\n",
       " [2, 1, 3, 4],\n",
       " [2, 1, 4, 3],\n",
       " [2, 3, 1, 4],\n",
       " [2, 3, 4, 1],\n",
       " [2, 4, 1, 3],\n",
       " [2, 4, 3, 1],\n",
       " [3, 1, 2, 4],\n",
       " [3, 1, 4, 2],\n",
       " [3, 2, 1, 4],\n",
       " [3, 2, 4, 1],\n",
       " [3, 4, 1, 2],\n",
       " [3, 4, 2, 1],\n",
       " [4, 1, 2, 3],\n",
       " [4, 1, 3, 2],\n",
       " [4, 2, 1, 3],\n",
       " [4, 2, 3, 1],\n",
       " [4, 3, 1, 2],\n",
       " [4, 3, 2, 1]]"
      ]
     },
     "execution_count": 287,
     "metadata": {},
     "output_type": "execute_result"
    }
   ],
   "source": [
    "answer"
   ]
  },
  {
   "cell_type": "code",
   "execution_count": 361,
   "metadata": {},
   "outputs": [],
   "source": [
    "def optimised_next_perm(arr):\n",
    "    index=-1\n",
    "    n=len(arr)\n",
    "    for i in range(n-2,-1,-1):\n",
    "        if(arr[i]<arr[i+1]):\n",
    "            index=i\n",
    "            break\n",
    "    for i in range(n-1,index,-1):\n",
    "        if(arr[i] > arr[index]):\n",
    "            temp=arr[i]\n",
    "            arr[i]=arr[index]\n",
    "            arr[index]=temp\n",
    "            break\n",
    "    arr=arr[:index+1]+sorted(arr[index+1:])"
   ]
  },
  {
   "cell_type": "code",
   "execution_count": 400,
   "metadata": {},
   "outputs": [],
   "source": [
    "class Solution(object):\n",
    "    def nextPermutation(self, nums):\n",
    "        \"\"\"\n",
    "        :type nums: List[int]\n",
    "        :rtype: None Do not return anything, modify nums in-place instead.\n",
    "        \"\"\"\n",
    "        index=-1\n",
    "        n=len(nums)\n",
    "        for i in range(n-2,-1,-1):\n",
    "            if(nums[i]<nums[i+1]):\n",
    "                index=i\n",
    "                break\n",
    "        for i in range(n-1,index,-1):\n",
    "            if(nums[i] > nums[index]):\n",
    "                temp=nums[i]\n",
    "                nums[i]=nums[index]\n",
    "                nums[index]=temp\n",
    "                break\n",
    "        print(nums)\n",
    "        nums[index+1:] = sorted(nums[index+1:])\n",
    "        print(nums)"
   ]
  },
  {
   "cell_type": "code",
   "execution_count": 401,
   "metadata": {},
   "outputs": [],
   "source": [
    "a=Solution()"
   ]
  },
  {
   "cell_type": "code",
   "execution_count": 402,
   "metadata": {},
   "outputs": [],
   "source": [
    "x=[3,4,2,1]"
   ]
  },
  {
   "cell_type": "code",
   "execution_count": 405,
   "metadata": {},
   "outputs": [
    {
     "data": {
      "text/plain": [
       "[4, 1, 2, 3]"
      ]
     },
     "execution_count": 405,
     "metadata": {},
     "output_type": "execute_result"
    }
   ],
   "source": [
    "x"
   ]
  },
  {
   "cell_type": "code",
   "execution_count": 404,
   "metadata": {},
   "outputs": [
    {
     "name": "stdout",
     "output_type": "stream",
     "text": [
      "[4, 3, 2, 1]\n",
      "[4, 1, 2, 3]\n"
     ]
    }
   ],
   "source": [
    "a.nextPermutation(x)"
   ]
  },
  {
   "cell_type": "code",
   "execution_count": 370,
   "metadata": {},
   "outputs": [],
   "source": [
    "optimised_next_perm(x)"
   ]
  },
  {
   "cell_type": "code",
   "execution_count": 446,
   "metadata": {},
   "outputs": [],
   "source": [
    "a=[-1,0,1,2,-1,-4]"
   ]
  },
  {
   "cell_type": "code",
   "execution_count": 482,
   "metadata": {},
   "outputs": [],
   "source": [
    "def show_triplets(a):\n",
    "    arr=[]\n",
    "    n=len(a)\n",
    "    for i in range(n-2):\n",
    "        for j in range(i+1,n-1):\n",
    "            for k in range(j+1,n):\n",
    "                arr.append([a[i],a[j],a[k]])\n",
    "    return arr"
   ]
  },
  {
   "cell_type": "code",
   "execution_count": 484,
   "metadata": {},
   "outputs": [
    {
     "data": {
      "text/plain": [
       "[[-1, 0, 1],\n",
       " [-1, 0, 2],\n",
       " [-1, 0, -1],\n",
       " [-1, 0, -4],\n",
       " [-1, 1, 2],\n",
       " [-1, 1, -1],\n",
       " [-1, 1, -4],\n",
       " [-1, 2, -1],\n",
       " [-1, 2, -4],\n",
       " [-1, -1, -4],\n",
       " [0, 1, 2],\n",
       " [0, 1, -1],\n",
       " [0, 1, -4],\n",
       " [0, 2, -1],\n",
       " [0, 2, -4],\n",
       " [0, -1, -4],\n",
       " [1, 2, -1],\n",
       " [1, 2, -4],\n",
       " [1, -1, -4],\n",
       " [2, -1, -4]]"
      ]
     },
     "execution_count": 484,
     "metadata": {},
     "output_type": "execute_result"
    }
   ],
   "source": [
    "show_triplets(a)"
   ]
  },
  {
   "cell_type": "code",
   "execution_count": 483,
   "metadata": {},
   "outputs": [],
   "source": [
    "def triplets(a,target):\n",
    "    arr=set()\n",
    "    n=len(a)\n",
    "    for i in range(n-2):\n",
    "        for j in range(i+1,n-1):\n",
    "            for k in range(j+1,n):\n",
    "                if(a[i]+a[j]+a[k]==target):\n",
    "                    x=sorted([a[i],a[j],a[k]])\n",
    "                    arr.add(tuple(x))\n",
    "    return arr"
   ]
  },
  {
   "cell_type": "code",
   "execution_count": 488,
   "metadata": {},
   "outputs": [],
   "source": [
    "def better_triplet(a):\n",
    "    n=len(a)\n",
    "    ans=set()\n",
    "    for i in range(n-2):\n",
    "        arr=set()\n",
    "        arr.add(a[i])\n",
    "        for j in range(i+1,n-1):\n",
    "            arr.add(a[j])\n",
    "            k=-(a[i]+a[j])\n",
    "            if(k in arr):\n",
    "                x=sorted([a[i],k,a[j]])\n",
    "                ans.add(tuple(x))\n",
    "    return ans"
   ]
  },
  {
   "cell_type": "code",
   "execution_count": 582,
   "metadata": {},
   "outputs": [],
   "source": [
    "def best_triplets(arr):\n",
    "    ans=[]\n",
    "    a=sorted(arr)\n",
    "    n=len(arr)\n",
    "    for i in range(n-2):\n",
    "        if i>0 and a[i]==a[i-1]:\n",
    "            continue\n",
    "        j=i+1\n",
    "        k=n-1\n",
    "        while(j<k):\n",
    "            sum=a[i]+a[j]+a[k]\n",
    "            if(sum==0):\n",
    "                ans.append([a[i],a[j],a[k]])\n",
    "                while(j<k and a[j]==a[j+1]):\n",
    "                    j+=1\n",
    "                while(j<k and a[k]==a[k-1]):\n",
    "                    k-=1\n",
    "                j+=1\n",
    "                k-=1\n",
    "            if(sum<0):\n",
    "                j+=1\n",
    "            if(sum>0):\n",
    "                k-=1\n",
    "    return ans\n"
   ]
  },
  {
   "cell_type": "code",
   "execution_count": 588,
   "metadata": {},
   "outputs": [
    {
     "ename": "NameError",
     "evalue": "name 'bisect' is not defined",
     "output_type": "error",
     "traceback": [
      "\u001b[1;31m---------------------------------------------------------------------------\u001b[0m",
      "\u001b[1;31mNameError\u001b[0m                                 Traceback (most recent call last)",
      "Cell \u001b[1;32mIn[588], line 1\u001b[0m\n\u001b[1;32m----> 1\u001b[0m \u001b[43mbisect\u001b[49m\n",
      "\u001b[1;31mNameError\u001b[0m: name 'bisect' is not defined"
     ]
    }
   ],
   "source": [
    "bisect"
   ]
  },
  {
   "cell_type": "code",
   "execution_count": 583,
   "metadata": {},
   "outputs": [
    {
     "data": {
      "text/plain": [
       "{(-1, -1, 2), (-1, 0, 1)}"
      ]
     },
     "execution_count": 583,
     "metadata": {},
     "output_type": "execute_result"
    }
   ],
   "source": [
    "triplets(a,0)"
   ]
  },
  {
   "cell_type": "code",
   "execution_count": 584,
   "metadata": {},
   "outputs": [
    {
     "data": {
      "text/plain": [
       "{(-1, -1, 2), (-1, 0, 1)}"
      ]
     },
     "execution_count": 584,
     "metadata": {},
     "output_type": "execute_result"
    }
   ],
   "source": [
    "better_triplet(a)"
   ]
  },
  {
   "cell_type": "code",
   "execution_count": 585,
   "metadata": {},
   "outputs": [
    {
     "data": {
      "text/plain": [
       "[-4, -1, -1, 0, 1, 2]"
      ]
     },
     "execution_count": 585,
     "metadata": {},
     "output_type": "execute_result"
    }
   ],
   "source": [
    "sorted(a)"
   ]
  },
  {
   "cell_type": "code",
   "execution_count": 586,
   "metadata": {},
   "outputs": [],
   "source": [
    "b=[-2,0,1,1,2]"
   ]
  },
  {
   "cell_type": "code",
   "execution_count": 587,
   "metadata": {},
   "outputs": [
    {
     "data": {
      "text/plain": [
       "[[-2, 0, 2], [-2, 1, 1]]"
      ]
     },
     "execution_count": 587,
     "metadata": {},
     "output_type": "execute_result"
    }
   ],
   "source": [
    "best_triplets(b)"
   ]
  },
  {
   "cell_type": "code",
   "execution_count": 565,
   "metadata": {},
   "outputs": [
    {
     "data": {
      "text/plain": [
       "35.0"
      ]
     },
     "execution_count": 565,
     "metadata": {},
     "output_type": "execute_result"
    }
   ],
   "source": [
    "(7*6*5*4*3*2*1)/(24*6)"
   ]
  },
  {
   "cell_type": "code",
   "execution_count": 421,
   "metadata": {},
   "outputs": [
    {
     "data": {
      "text/plain": [
       "27000000000"
      ]
     },
     "execution_count": 421,
     "metadata": {},
     "output_type": "execute_result"
    }
   ],
   "source": [
    "3000**3"
   ]
  },
  {
   "cell_type": "code",
   "execution_count": null,
   "metadata": {},
   "outputs": [],
   "source": [
    "1,2,3\n",
    "1,2,4\n",
    "1,2,5\n",
    "1,2,6\n",
    "1,3,4\n",
    "1,3,5\n",
    "1,3,6\n",
    "1,4,5\n",
    "1,4,6\n",
    "1,5,6\n",
    "2,3,4\n",
    "2,3,5\n",
    "2,3,6\n",
    "2,4,5\n",
    "2,4,6\n",
    "2,5,6\n",
    "3,4,5\n",
    "3,4,6\n",
    "3,5,6\n",
    "4,5,6\n",
    "\n"
   ]
  }
 ],
 "metadata": {
  "kernelspec": {
   "display_name": "venv",
   "language": "python",
   "name": "python3"
  },
  "language_info": {
   "codemirror_mode": {
    "name": "ipython",
    "version": 3
   },
   "file_extension": ".py",
   "mimetype": "text/x-python",
   "name": "python",
   "nbconvert_exporter": "python",
   "pygments_lexer": "ipython3",
   "version": "3.11.0"
  }
 },
 "nbformat": 4,
 "nbformat_minor": 2
}
