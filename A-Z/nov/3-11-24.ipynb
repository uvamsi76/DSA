{
 "cells": [
  {
   "cell_type": "code",
   "execution_count": 4,
   "metadata": {},
   "outputs": [],
   "source": [
    "def evenlydivide(n):\n",
    "    a=n\n",
    "    c=0\n",
    "    x=0\n",
    "    while a!=0:\n",
    "        x=a%10\n",
    "        a=a//10\n",
    "        if(n%x==0):\n",
    "            c+=1\n",
    "    return c"
   ]
  },
  {
   "cell_type": "code",
   "execution_count": 7,
   "metadata": {},
   "outputs": [
    {
     "data": {
      "text/plain": [
       "0"
      ]
     },
     "execution_count": 7,
     "metadata": {},
     "output_type": "execute_result"
    }
   ],
   "source": [
    "evenlydivide(23)"
   ]
  },
  {
   "cell_type": "code",
   "execution_count": null,
   "metadata": {},
   "outputs": [],
   "source": [
    "1534236469"
   ]
  },
  {
   "cell_type": "code",
   "execution_count": 10,
   "metadata": {},
   "outputs": [],
   "source": [
    "def reverse(x):\n",
    "    a=0\n",
    "    while x!=0:\n",
    "        a=10*a+x%10\n",
    "        x=x//10\n",
    "    return a"
   ]
  },
  {
   "cell_type": "code",
   "execution_count": 13,
   "metadata": {},
   "outputs": [
    {
     "data": {
      "text/plain": [
       "543211"
      ]
     },
     "execution_count": 13,
     "metadata": {},
     "output_type": "execute_result"
    }
   ],
   "source": [
    "reverse(112345)"
   ]
  },
  {
   "cell_type": "code",
   "execution_count": 17,
   "metadata": {},
   "outputs": [
    {
     "data": {
      "text/plain": [
       "20000000000000000000000000000000"
      ]
     },
     "execution_count": 17,
     "metadata": {},
     "output_type": "execute_result"
    }
   ],
   "source": [
    "2*10**31"
   ]
  },
  {
   "cell_type": "code",
   "execution_count": 22,
   "metadata": {},
   "outputs": [],
   "source": [
    "def reverse(x):\n",
    "    \"\"\"\n",
    "    :type x: int\n",
    "    :rtype: int\n",
    "    \"\"\"\n",
    "    a=0\n",
    "    z=False\n",
    "    if(x<0):\n",
    "        x=-1*x\n",
    "        z=True\n",
    "    while x!=0:\n",
    "        a=10*a+x%10\n",
    "        x=x//10\n",
    "    ans=a if(not z) else -1*a\n",
    "    \n",
    "    return ans if(ans>=-2**31 and ans<=(2**31)-1) else 0"
   ]
  },
  {
   "cell_type": "code",
   "execution_count": 23,
   "metadata": {},
   "outputs": [
    {
     "data": {
      "text/plain": [
       "0"
      ]
     },
     "execution_count": 23,
     "metadata": {},
     "output_type": "execute_result"
    }
   ],
   "source": [
    "reverse(1534236469)"
   ]
  },
  {
   "cell_type": "code",
   "execution_count": 30,
   "metadata": {},
   "outputs": [],
   "source": [
    "def palindrome(x):\n",
    "    a=str(x)\n",
    "    ans=''\n",
    "    for i in range(len(a)-1,-1,-1):\n",
    "        ans+=a[i]\n",
    "    return ans==a"
   ]
  },
  {
   "cell_type": "code",
   "execution_count": 32,
   "metadata": {},
   "outputs": [
    {
     "data": {
      "text/plain": [
       "True"
      ]
     },
     "execution_count": 32,
     "metadata": {},
     "output_type": "execute_result"
    }
   ],
   "source": [
    "palindrome(121)"
   ]
  },
  {
   "cell_type": "code",
   "execution_count": 33,
   "metadata": {},
   "outputs": [],
   "source": [
    "def gcd(a,b):\n",
    "    max=a if a>b else b\n",
    "    min=a if a<=b else b\n",
    "    if(max%min==0):\n",
    "        return min\n",
    "    return gcd(min,max%min)"
   ]
  },
  {
   "cell_type": "code",
   "execution_count": 35,
   "metadata": {},
   "outputs": [
    {
     "data": {
      "text/plain": [
       "1"
      ]
     },
     "execution_count": 35,
     "metadata": {},
     "output_type": "execute_result"
    }
   ],
   "source": [
    "gcd(17,19)"
   ]
  },
  {
   "cell_type": "code",
   "execution_count": 36,
   "metadata": {},
   "outputs": [],
   "source": [
    "def lcmandgcd(a,b):\n",
    "    g=gcd(a,b)\n",
    "    l=(a*b)//g\n",
    "    return [l,g]"
   ]
  },
  {
   "cell_type": "code",
   "execution_count": 38,
   "metadata": {},
   "outputs": [
    {
     "data": {
      "text/plain": [
       "[56, 2]"
      ]
     },
     "execution_count": 38,
     "metadata": {},
     "output_type": "execute_result"
    }
   ],
   "source": [
    "lcmandgcd(14,8)"
   ]
  },
  {
   "cell_type": "code",
   "execution_count": 39,
   "metadata": {},
   "outputs": [],
   "source": [
    "import math"
   ]
  },
  {
   "cell_type": "code",
   "execution_count": 87,
   "metadata": {},
   "outputs": [],
   "source": [
    "from collections import defaultdict "
   ]
  },
  {
   "cell_type": "code",
   "execution_count": 110,
   "metadata": {},
   "outputs": [],
   "source": [
    "def sumofdivisors(n):\n",
    "    ans=0\n",
    "    d=defaultdict()\n",
    "    d[1]=1\n",
    "    d[2]=3\n",
    "    d[3]=4\n",
    "    for i in range(4,n+1):\n",
    "        a=0\n",
    "        for j in range(int(math.sqrt(i),0,-1):\n",
    "            print(j,d)\n",
    "            print(j in d.keys())\n",
    "            if(i%j==0):\n",
    "                if(j in d.keys()):\n",
    "                    a+=d[j]\n",
    "                    break\n",
    "                if(j!=i//j):\n",
    "                    a+=i//j\n",
    "                a+=j\n",
    "        ans+=a\n",
    "        d[i]=a\n",
    "    return d"
   ]
  },
  {
   "cell_type": "code",
   "execution_count": 111,
   "metadata": {},
   "outputs": [
    {
     "name": "stdout",
     "output_type": "stream",
     "text": [
      "2 defaultdict(None, {1: 1, 2: 3, 3: 4})\n",
      "True\n"
     ]
    },
    {
     "data": {
      "text/plain": [
       "defaultdict(None, {1: 1, 2: 3, 3: 4, 4: 3})"
      ]
     },
     "execution_count": 111,
     "metadata": {},
     "output_type": "execute_result"
    }
   ],
   "source": [
    "sumofdivisors(4)"
   ]
  },
  {
   "cell_type": "code",
   "execution_count": 103,
   "metadata": {},
   "outputs": [
    {
     "data": {
      "text/plain": [
       "1"
      ]
     },
     "execution_count": 103,
     "metadata": {},
     "output_type": "execute_result"
    }
   ],
   "source": [
    "int(math.sqrt(3))"
   ]
  },
  {
   "cell_type": "code",
   "execution_count": 113,
   "metadata": {},
   "outputs": [
    {
     "name": "stdout",
     "output_type": "stream",
     "text": [
      "2 2\n",
      "1 4\n"
     ]
    }
   ],
   "source": [
    "a=0\n",
    "i=4\n",
    "for j in range(int(math.sqrt(4)),0,-1):\n",
    "    if(4%j==0):\n",
    "        if(j!=i//j):\n",
    "            a+=i//j\n",
    "        a+=j\n",
    "        print(j,i//j)"
   ]
  },
  {
   "cell_type": "code",
   "execution_count": 246,
   "metadata": {},
   "outputs": [],
   "source": [
    "def minjumps(arr):\n",
    "    count=0\n",
    "    nextjump=0\n",
    "    maxinjump=nextjump\n",
    "    for i in range(len(arr)-1):\n",
    "        # print(nextjump,maxinjump)\n",
    "        # if(nextjump<len(arr) and arr[nextjump]==0):\n",
    "        #     return -1\n",
    "        if(i+arr[i]>maxinjump):\n",
    "            maxinjump=i+arr[i]\n",
    "        if(i==nextjump):\n",
    "            print(i)\n",
    "            # nextjump=maxinjump if(maxinjump>arr[nextjump]) else i+arr[nextjump]\n",
    "            # maxinjump=nextjump\n",
    "            nextjump = maxinjump\n",
    "            count+=1\n",
    "    # return count-1 if nextjump>len(arr) else count\n",
    "    return count\n"
   ]
  },
  {
   "cell_type": "code",
   "execution_count": 247,
   "metadata": {},
   "outputs": [
    {
     "name": "stdout",
     "output_type": "stream",
     "text": [
      "0\n",
      "1\n",
      "4\n"
     ]
    },
    {
     "data": {
      "text/plain": [
       "3"
      ]
     },
     "execution_count": 247,
     "metadata": {},
     "output_type": "execute_result"
    }
   ],
   "source": [
    "minjumps([1, 3, 5, 8, 9, 2, 6, 7, 6, 8, 9])"
   ]
  },
  {
   "cell_type": "code",
   "execution_count": 248,
   "metadata": {},
   "outputs": [],
   "source": [
    "a=[1, 4, 3, 2, 6, 7]"
   ]
  },
  {
   "cell_type": "code",
   "execution_count": 250,
   "metadata": {},
   "outputs": [],
   "source": [
    "a=[9 ,10 ,1 ,2 ,3 ,4 ,8 ,0 ,0 ,0 ,0 ,0 ,0 ,0 ,1]"
   ]
  },
  {
   "cell_type": "code",
   "execution_count": 251,
   "metadata": {},
   "outputs": [
    {
     "name": "stdout",
     "output_type": "stream",
     "text": [
      "0\n",
      "9\n"
     ]
    },
    {
     "data": {
      "text/plain": [
       "2"
      ]
     },
     "execution_count": 251,
     "metadata": {},
     "output_type": "execute_result"
    }
   ],
   "source": [
    "minjumps(a)"
   ]
  },
  {
   "cell_type": "code",
   "execution_count": 252,
   "metadata": {},
   "outputs": [
    {
     "data": {
      "text/plain": [
       "[1, 4, 3, 2, 6, 7]"
      ]
     },
     "execution_count": 252,
     "metadata": {},
     "output_type": "execute_result"
    }
   ],
   "source": [
    "[1, 4, 3, 2, 6, 7]"
   ]
  },
  {
   "cell_type": "code",
   "execution_count": null,
   "metadata": {},
   "outputs": [],
   "source": []
  }
 ],
 "metadata": {
  "kernelspec": {
   "display_name": "venv",
   "language": "python",
   "name": "python3"
  },
  "language_info": {
   "codemirror_mode": {
    "name": "ipython",
    "version": 3
   },
   "file_extension": ".py",
   "mimetype": "text/x-python",
   "name": "python",
   "nbconvert_exporter": "python",
   "pygments_lexer": "ipython3",
   "version": "3.11.0"
  }
 },
 "nbformat": 4,
 "nbformat_minor": 2
}
