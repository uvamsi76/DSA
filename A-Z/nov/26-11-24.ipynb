{
 "cells": [
  {
   "cell_type": "code",
   "execution_count": null,
   "metadata": {},
   "outputs": [],
   "source": [
    "\n",
    "def binarysearch(arr,k):\n",
    "    n=len(arr)\n",
    "    low=0\n",
    "    high=n-1\n",
    "    while(low<=high):\n",
    "        mid=(low+high)//2\n",
    "        if(arr[mid]==k):\n",
    "            return mid,-1\n",
    "        if(arr[mid]>k):\n",
    "            high=mid-1\n",
    "        else:\n",
    "            low=mid+1\n",
    "    if(high>=n or high<0):\n",
    "        high=-1\n",
    "    if(low<0 or low>=n):\n",
    "        low=-1\n",
    "    return high,low\n",
    "def getFloorAndCeil( x: int, arr: list) -> list:\n",
    "    # code here\n",
    "    arr.sort()\n",
    "    i,j=binarysearch(arr,x)\n",
    "    # print(i,j)\n",
    "    if j!=-1 and i!=-1:\n",
    "        return [arr[i],arr[j]] \n",
    "    elif(j==-1):\n",
    "        return [arr[i],j]\n",
    "    else:\n",
    "        return [i,arr[j]]"
   ]
  },
  {
   "cell_type": "code",
   "execution_count": 32,
   "metadata": {},
   "outputs": [
    {
     "name": "stdout",
     "output_type": "stream",
     "text": [
      "1 -1\n"
     ]
    },
    {
     "data": {
      "text/plain": [
       "[23, -1]"
      ]
     },
     "execution_count": 32,
     "metadata": {},
     "output_type": "execute_result"
    }
   ],
   "source": [
    "getFloorAndCeil(37,[17,23])"
   ]
  },
  {
   "cell_type": "code",
   "execution_count": null,
   "metadata": {},
   "outputs": [],
   "source": []
  },
  {
   "cell_type": "code",
   "execution_count": null,
   "metadata": {},
   "outputs": [],
   "source": []
  }
 ],
 "metadata": {
  "kernelspec": {
   "display_name": "venv",
   "language": "python",
   "name": "python3"
  },
  "language_info": {
   "codemirror_mode": {
    "name": "ipython",
    "version": 3
   },
   "file_extension": ".py",
   "mimetype": "text/x-python",
   "name": "python",
   "nbconvert_exporter": "python",
   "pygments_lexer": "ipython3",
   "version": "3.11.0"
  }
 },
 "nbformat": 4,
 "nbformat_minor": 2
}
