{
 "cells": [
  {
   "cell_type": "code",
   "execution_count": 1,
   "metadata": {},
   "outputs": [],
   "source": [
    "from collections import deque"
   ]
  },
  {
   "cell_type": "code",
   "execution_count": 7,
   "metadata": {},
   "outputs": [],
   "source": [
    "a=deque([])"
   ]
  },
  {
   "cell_type": "code",
   "execution_count": 4,
   "metadata": {},
   "outputs": [],
   "source": [
    "b=[]"
   ]
  },
  {
   "cell_type": "code",
   "execution_count": 8,
   "metadata": {},
   "outputs": [
    {
     "ename": "AttributeError",
     "evalue": "'collections.deque' object has no attribute 'push'",
     "output_type": "error",
     "traceback": [
      "\u001b[1;31m---------------------------------------------------------------------------\u001b[0m",
      "\u001b[1;31mAttributeError\u001b[0m                            Traceback (most recent call last)",
      "Cell \u001b[1;32mIn[8], line 1\u001b[0m\n\u001b[1;32m----> 1\u001b[0m \u001b[43ma\u001b[49m\u001b[38;5;241;43m.\u001b[39;49m\u001b[43mpush\u001b[49m(\u001b[38;5;241m2\u001b[39m)\n\u001b[0;32m      2\u001b[0m \u001b[38;5;66;03m# b.append(2)\u001b[39;00m\n",
      "\u001b[1;31mAttributeError\u001b[0m: 'collections.deque' object has no attribute 'push'"
     ]
    }
   ],
   "source": [
    "a.push(2)\n",
    "# b.append(2)"
   ]
  },
  {
   "cell_type": "code",
   "execution_count": 6,
   "metadata": {},
   "outputs": [
    {
     "data": {
      "text/plain": [
       "[2]"
      ]
     },
     "execution_count": 6,
     "metadata": {},
     "output_type": "execute_result"
    }
   ],
   "source": [
    "b"
   ]
  },
  {
   "cell_type": "code",
   "execution_count": 37,
   "metadata": {},
   "outputs": [],
   "source": [
    "def longest_subsequence(arr):\n",
    "    arr.sort()\n",
    "    c=1\n",
    "    m=1\n",
    "    for i in range(1,len(arr)):\n",
    "        if(arr[i-1]+1==arr[i]):\n",
    "            c+=1\n",
    "        elif(arr[i-1]==arr[i]):\n",
    "            pass\n",
    "        else:\n",
    "            c=1\n",
    "        m=max(m,c)\n",
    "    return m\n",
    "    # d=set(arr)\n",
    "    # if(len(arr)==0):\n",
    "    #     return 0\n",
    "    # m=1\n",
    "    # l=[]\n",
    "    # for i in d:\n",
    "    #     if(i-1 not in d):\n",
    "    #         cnt=1\n",
    "    #         x=i\n",
    "    #         while(x+1 in d):\n",
    "    #             l.append(x)\n",
    "    #             x+=1\n",
    "    #             cnt+=1\n",
    "    #         l.append('|')\n",
    "    #         m=max(cnt,m)\n",
    "    # return m,l"
   ]
  },
  {
   "cell_type": "code",
   "execution_count": 38,
   "metadata": {},
   "outputs": [],
   "source": [
    "a=[15,6,2,1,16,4,2,29,9,12,8,5,14,21,8,12,17,16,6,26,3]"
   ]
  },
  {
   "cell_type": "code",
   "execution_count": 39,
   "metadata": {},
   "outputs": [],
   "source": [
    "a.sort()"
   ]
  },
  {
   "cell_type": "code",
   "execution_count": 40,
   "metadata": {},
   "outputs": [
    {
     "data": {
      "text/plain": [
       "[1, 2, 2, 3, 4, 5, 6, 6, 8, 8, 9, 12, 12, 14, 15, 16, 16, 17, 21, 26, 29]"
      ]
     },
     "execution_count": 40,
     "metadata": {},
     "output_type": "execute_result"
    }
   ],
   "source": [
    "a"
   ]
  },
  {
   "cell_type": "code",
   "execution_count": 41,
   "metadata": {},
   "outputs": [
    {
     "data": {
      "text/plain": [
       "6"
      ]
     },
     "execution_count": 41,
     "metadata": {},
     "output_type": "execute_result"
    }
   ],
   "source": [
    "longest_subsequence(a)"
   ]
  },
  {
   "cell_type": "code",
   "execution_count": 94,
   "metadata": {},
   "outputs": [],
   "source": [
    "def print_arr(arr):\n",
    "    for i in range(len(arr)):\n",
    "        for j in range(len(arr[i])):\n",
    "            print(arr[i][j] , end=' ')\n",
    "        print()"
   ]
  },
  {
   "cell_type": "code",
   "execution_count": 187,
   "metadata": {},
   "outputs": [],
   "source": [
    "def setrnctoz(arr):\n",
    "    m=len(arr)\n",
    "    n=len(arr[0])\n",
    "    # l=[]\n",
    "    # for i in range(m):\n",
    "    #     for j in range(n):\n",
    "    #         if(arr[i][j]==0):\n",
    "    #             r=i\n",
    "    #             c=j\n",
    "    #             while(r-1>=0):\n",
    "    #                 l.append((r-1,c))\n",
    "    #                 r-=1\n",
    "    #             r=i\n",
    "    #             c=j\n",
    "    #             while(r+1<m):\n",
    "    #                 l.append((r+1,c))\n",
    "    #                 r+=1\n",
    "    #             r=i\n",
    "    #             c=j\n",
    "    #             while(c-1>=0):\n",
    "    #                 l.append((r,c-1))\n",
    "    #                 c-=1\n",
    "    #             r=i\n",
    "    #             c=j\n",
    "    #             while(c+1>n):\n",
    "    #                 l.append((r,c+1))\n",
    "    #                 c+=1\n",
    "    #     print(l)\n",
    "    # for i in range(len(l)):\n",
    "    #     arr[l[i][0]][l[i][1]]=0\n",
    "\n",
    "    # c=[0 for i in range(m)]\n",
    "    # r=[0 for i in range(n)]\n",
    "    # for i in range(m):\n",
    "    #     for j in range(n):\n",
    "    #         if(arr[i][j]==0):\n",
    "    #             c[i]=1\n",
    "    #             r[j]=1\n",
    "    # for i in range(m):\n",
    "    #     for j in range(n):\n",
    "    #         if(c[i]==1 or r[j]==1):\n",
    "    #             arr[i][j]=0\n",
    "    # return arr\n",
    "\n",
    "    cij=1\n",
    "    for i in range(m):\n",
    "        for j in range(n):\n",
    "            if(arr[i][j]==0 and j!=0):\n",
    "                arr[0][j]=-1\n",
    "                arr[i][0]=-1\n",
    "            elif(arr[i][j]==0 and j==0):\n",
    "                cij=-1\n",
    "                arr[i][0]=-1\n",
    "    print_arr(arr)\n",
    "    for i in range(1,m):\n",
    "        for j in range(1,n):\n",
    "            if(arr[0][j]==-1 or arr[i][0]==-1):\n",
    "                arr[i][j]=0\n",
    "    print_arr(arr)\n",
    "    if(arr[0][0]==-1):\n",
    "        for i in range(n):\n",
    "            arr[0][i]=0\n",
    "    if(cij==-1):\n",
    "        for i in range(m):\n",
    "            arr[i][0]=0\n",
    "    return arr"
   ]
  },
  {
   "cell_type": "code",
   "execution_count": 188,
   "metadata": {},
   "outputs": [],
   "source": [
    "arr=[[1,1,1],[1,0,1],[1,1,1]]"
   ]
  },
  {
   "cell_type": "code",
   "execution_count": 189,
   "metadata": {},
   "outputs": [
    {
     "name": "stdout",
     "output_type": "stream",
     "text": [
      "1 1 1 \n",
      "1 0 1 \n",
      "1 1 1 \n"
     ]
    }
   ],
   "source": [
    "print_arr(arr)"
   ]
  },
  {
   "cell_type": "code",
   "execution_count": 190,
   "metadata": {},
   "outputs": [
    {
     "name": "stdout",
     "output_type": "stream",
     "text": [
      "1 -1 1 \n",
      "-1 0 1 \n",
      "1 1 1 \n",
      "1 -1 1 \n",
      "-1 0 0 \n",
      "1 0 1 \n"
     ]
    },
    {
     "data": {
      "text/plain": [
       "[[1, -1, 1], [-1, 0, 0], [1, 0, 1]]"
      ]
     },
     "execution_count": 190,
     "metadata": {},
     "output_type": "execute_result"
    }
   ],
   "source": [
    "setrnctoz(arr)"
   ]
  },
  {
   "cell_type": "code",
   "execution_count": 191,
   "metadata": {},
   "outputs": [
    {
     "name": "stdout",
     "output_type": "stream",
     "text": [
      "1 -1 1 \n",
      "-1 0 0 \n",
      "1 0 1 \n"
     ]
    }
   ],
   "source": [
    "print_arr(arr)"
   ]
  },
  {
   "cell_type": "code",
   "execution_count": null,
   "metadata": {},
   "outputs": [],
   "source": []
  }
 ],
 "metadata": {
  "kernelspec": {
   "display_name": "venv",
   "language": "python",
   "name": "python3"
  },
  "language_info": {
   "codemirror_mode": {
    "name": "ipython",
    "version": 3
   },
   "file_extension": ".py",
   "mimetype": "text/x-python",
   "name": "python",
   "nbconvert_exporter": "python",
   "pygments_lexer": "ipython3",
   "version": "3.11.0"
  }
 },
 "nbformat": 4,
 "nbformat_minor": 2
}
