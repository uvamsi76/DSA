{
 "cells": [
  {
   "cell_type": "code",
   "execution_count": 39,
   "metadata": {},
   "outputs": [],
   "source": [
    "from collections import defaultdict\n",
    "def lenOfLongestSubarr(arr, k):  \n",
    "        # code here\n",
    "        d={}\n",
    "        s=0\n",
    "        n=len(arr)\n",
    "        maxl=0\n",
    "        for i in range (n):\n",
    "            s+=arr[i]\n",
    "            # print(i,maxl)\n",
    "            if(s==k):\n",
    "                maxl=max(maxl,i+1)\n",
    "            if(s-k in d.keys()):\n",
    "                maxl=max(maxl,i-d[s-k])\n",
    "            elif(s not in d.keys()):\n",
    "                d[s]=i\n",
    "        print(d)\n",
    "        return maxl"
   ]
  },
  {
   "cell_type": "code",
   "execution_count": 40,
   "metadata": {},
   "outputs": [
    {
     "name": "stdout",
     "output_type": "stream",
     "text": [
      "{131: 0, 935: 1, 1424: 2, 1470: 3, 2134: 4, 3006: 5, 4148: 7, 4279: 8, 5083: 9, 5572: 10, 5618: 11, 6282: 12, 7154: 13, 8296: 15}\n"
     ]
    },
    {
     "data": {
      "text/plain": [
       "3"
      ]
     },
     "execution_count": 40,
     "metadata": {},
     "output_type": "execute_result"
    }
   ],
   "source": [
    "lenOfLongestSubarr([131,804,489,46,664,872,515,627,131,804,489,46,664,872,515,627],2051)"
   ]
  },
  {
   "cell_type": "code",
   "execution_count": 57,
   "metadata": {},
   "outputs": [],
   "source": [
    "def bruteforce(arr,k):\n",
    "    n=len(arr)\n",
    "    s=0\n",
    "    for i in range(n):\n",
    "        s=0\n",
    "        for j in range(i,n):\n",
    "            s+=arr[j]\n",
    "            if(s==k):\n",
    "                print(j-i)\n",
    "                print(arr[i:j])"
   ]
  },
  {
   "cell_type": "code",
   "execution_count": 58,
   "metadata": {},
   "outputs": [
    {
     "name": "stdout",
     "output_type": "stream",
     "text": [
      "2\n",
      "[664, 872]\n",
      "3\n",
      "[627, 131, 804]\n",
      "2\n",
      "[664, 872]\n"
     ]
    }
   ],
   "source": [
    "bruteforce([131,804,489,46,664,872,515,627,131,804,489,46,664,872,515,627],2051)"
   ]
  },
  {
   "cell_type": "code",
   "execution_count": 47,
   "metadata": {},
   "outputs": [
    {
     "data": {
      "text/plain": [
       "2051"
      ]
     },
     "execution_count": 47,
     "metadata": {},
     "output_type": "execute_result"
    }
   ],
   "source": [
    "664+872+515"
   ]
  },
  {
   "cell_type": "markdown",
   "metadata": {},
   "source": [
    "bs"
   ]
  },
  {
   "cell_type": "code",
   "execution_count": 55,
   "metadata": {},
   "outputs": [],
   "source": [
    "def findfloor(arr,k):\n",
    "    low=0\n",
    "    high=len(arr)\n",
    "    while(low<=high):\n",
    "        mid=(low+high)//2\n",
    "        if(arr[mid]==k ):\n",
    "            return mid\n",
    "        if(arr[mid]<k):\n",
    "            low=mid+1\n",
    "        else:\n",
    "            high=mid-1\n",
    "    return high if arr[high]<k else -1"
   ]
  },
  {
   "cell_type": "code",
   "execution_count": 56,
   "metadata": {},
   "outputs": [
    {
     "data": {
      "text/plain": [
       "0"
      ]
     },
     "execution_count": 56,
     "metadata": {},
     "output_type": "execute_result"
    }
   ],
   "source": [
    "findfloor([10143,29122,30010],23112)"
   ]
  },
  {
   "cell_type": "code",
   "execution_count": null,
   "metadata": {},
   "outputs": [],
   "source": []
  }
 ],
 "metadata": {
  "kernelspec": {
   "display_name": "venv",
   "language": "python",
   "name": "python3"
  },
  "language_info": {
   "codemirror_mode": {
    "name": "ipython",
    "version": 3
   },
   "file_extension": ".py",
   "mimetype": "text/x-python",
   "name": "python",
   "nbconvert_exporter": "python",
   "pygments_lexer": "ipython3",
   "version": "3.11.0"
  }
 },
 "nbformat": 4,
 "nbformat_minor": 2
}
