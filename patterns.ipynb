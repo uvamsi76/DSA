{
 "cells": [
  {
   "cell_type": "code",
   "execution_count": 177,
   "metadata": {},
   "outputs": [
    {
     "name": "stdout",
     "output_type": "stream",
     "text": [
      "*          *\n",
      "**        **\n",
      "***      ***\n",
      "****    ****\n",
      "*****  *****\n",
      "************\n",
      "*****  *****\n",
      "****    ****\n",
      "***      ***\n",
      "**        **\n",
      "*          *\n"
     ]
    }
   ],
   "source": [
    "n=5\n",
    "for i in range(n):\n",
    "    for j in range(i+1):\n",
    "        print('*', end='')\n",
    "    for j in range(n-i):\n",
    "        print(' ',end='')\n",
    "    for j in range(n-i):\n",
    "        print(' ', end='')\n",
    "    for j in range(i+1):\n",
    "        print('*',end='')\n",
    "    print()\n",
    "for i in range(n+1):\n",
    "    for j in range(n-i+1):\n",
    "        print('*', end='')\n",
    "    for j in range(i):\n",
    "        print(' ',end='')\n",
    "    for j in range(i):\n",
    "        print(' ',end='')\n",
    "    for j in range(n-i+1):\n",
    "        print('*', end='')\n",
    "    print()"
   ]
  },
  {
   "cell_type": "code",
   "execution_count": 73,
   "metadata": {},
   "outputs": [
    {
     "name": "stdout",
     "output_type": "stream",
     "text": [
      "1 \n",
      "0 1 \n",
      "0 1 0 \n",
      "1 0 1 0 \n",
      "1 0 1 0 1 \n"
     ]
    }
   ],
   "source": [
    "flag=True\n",
    "for i in range(n):\n",
    "    for j in range(i+1):\n",
    "        if(flag):\n",
    "            print(1,end=' ')\n",
    "        else:\n",
    "            print(0,end=' ')\n",
    "        flag=not flag\n",
    "    print()"
   ]
  },
  {
   "cell_type": "code",
   "execution_count": 100,
   "metadata": {},
   "outputs": [
    {
     "name": "stdout",
     "output_type": "stream",
     "text": [
      "1        1\n",
      "12      21\n",
      "123    321\n",
      "1234  4321\n",
      "1234554321\n"
     ]
    }
   ],
   "source": [
    "for i in range(n):\n",
    "    for j in range(i+1):\n",
    "        print(j+1,end='')\n",
    "        k=j+1\n",
    "    for j in range(2*(n-i-1)):\n",
    "        print(' ',end='')\n",
    "    for j in range(k,0,-1):\n",
    "        print(j,end='')\n",
    "    print()"
   ]
  },
  {
   "cell_type": "code",
   "execution_count": 151,
   "metadata": {},
   "outputs": [],
   "source": [
    "n=4"
   ]
  },
  {
   "cell_type": "code",
   "execution_count": 152,
   "metadata": {},
   "outputs": [
    {
     "name": "stdout",
     "output_type": "stream",
     "text": [
      "        A         \n",
      "      A B A       \n",
      "    A B C B A     \n",
      "  A B C D C B A   \n"
     ]
    }
   ],
   "source": [
    "for i in range(n):\n",
    "    a=chr(ord('A')-1)\n",
    "    for j in range((n-(i))):\n",
    "        print(' ',end=' ')\n",
    "    for j in range(((2*i+1)//2)+1):\n",
    "        a=chr(ord(a)+1)\n",
    "        print(a,end=' ')\n",
    "    for j in range(((2*i+1)//2)):\n",
    "        a=chr(ord(a)-1)\n",
    "        print(a,end=' ')\n",
    "    for j in range((n-(i))):\n",
    "        print(' ',end=' ')\n",
    "    print()"
   ]
  },
  {
   "cell_type": "code",
   "execution_count": 113,
   "metadata": {},
   "outputs": [
    {
     "data": {
      "text/plain": [
       "'A'"
      ]
     },
     "execution_count": 113,
     "metadata": {},
     "output_type": "execute_result"
    }
   ],
   "source": [
    "chr(ord('A'))"
   ]
  },
  {
   "cell_type": "code",
   "execution_count": 166,
   "metadata": {},
   "outputs": [],
   "source": [
    "n=5"
   ]
  },
  {
   "cell_type": "code",
   "execution_count": 167,
   "metadata": {},
   "outputs": [
    {
     "name": "stdout",
     "output_type": "stream",
     "text": [
      "E \n",
      "D E \n",
      "C D E \n",
      "B C D E \n",
      "A B C D E \n"
     ]
    }
   ],
   "source": [
    "\n",
    "for i in range(n):\n",
    "    a=chr(ord('A')+n-i-1)\n",
    "    for j in range(i+1):\n",
    "        print(a,end=' ')\n",
    "        a=chr(ord(a)+1)\n",
    "    print()"
   ]
  },
  {
   "cell_type": "code",
   "execution_count": 183,
   "metadata": {},
   "outputs": [
    {
     "name": "stdout",
     "output_type": "stream",
     "text": [
      "*****\n",
      "*   *\n",
      "*   *\n",
      "*   *\n",
      "*****\n"
     ]
    }
   ],
   "source": [
    "for i in range(n):\n",
    "    if(i==0 or i==n-1):\n",
    "        for j in range(n):\n",
    "            print('*',end='')\n",
    "        print()\n",
    "    else:\n",
    "        for j in range(n):\n",
    "            if(j==0 or j==n-1):\n",
    "                print('*',end='')\n",
    "            else:\n",
    "                print(' ',end='')\n",
    "        print()"
   ]
  },
  {
   "cell_type": "code",
   "execution_count": 210,
   "metadata": {},
   "outputs": [],
   "source": [
    "n=4"
   ]
  },
  {
   "cell_type": "code",
   "execution_count": 212,
   "metadata": {},
   "outputs": [
    {
     "name": "stdout",
     "output_type": "stream",
     "text": [
      "4444444\n",
      "4333334\n",
      "4322234\n",
      "4321234\n",
      "4322234\n",
      "4333334\n",
      "4444444\n"
     ]
    }
   ],
   "source": [
    "for i in range(2*n-1):\n",
    "    for j in range(2*n-1):\n",
    "        top=i\n",
    "        bottom=j\n",
    "        right=(2*n-2)-j\n",
    "        left=(2*n-2)-i\n",
    "        a=n-min(top,bottom,left,right)\n",
    "        print(a,end='')\n",
    "        a=n-1-j\n",
    "    print()"
   ]
  },
  {
   "cell_type": "code",
   "execution_count": null,
   "metadata": {},
   "outputs": [],
   "source": []
  }
 ],
 "metadata": {
  "kernelspec": {
   "display_name": "venv",
   "language": "python",
   "name": "python3"
  },
  "language_info": {
   "codemirror_mode": {
    "name": "ipython",
    "version": 3
   },
   "file_extension": ".py",
   "mimetype": "text/x-python",
   "name": "python",
   "nbconvert_exporter": "python",
   "pygments_lexer": "ipython3",
   "version": "3.11.0"
  }
 },
 "nbformat": 4,
 "nbformat_minor": 2
}
