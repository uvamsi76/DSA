{
 "cells": [
  {
   "cell_type": "markdown",
   "metadata": {},
   "source": [
    "max subarrays\n"
   ]
  },
  {
   "cell_type": "code",
   "execution_count": 68,
   "metadata": {},
   "outputs": [],
   "source": [
    "a=[-2,1,-3,4,-1,2,1,-5,4]"
   ]
  },
  {
   "cell_type": "code",
   "execution_count": 64,
   "metadata": {},
   "outputs": [],
   "source": [
    "def brut_max_subarray(a):\n",
    "    arr=[a[0]]\n",
    "    s=a[0]\n",
    "    for i in range(1,len(a)+1):\n",
    "        for j in range(len(a)-i+1):\n",
    "            csum=sum(a[j:j+i])\n",
    "            if(csum > s):\n",
    "                s=csum\n",
    "                arr=a[j:j+i]\n",
    "    return arr,s"
   ]
  },
  {
   "cell_type": "markdown",
   "metadata": {},
   "source": [
    "a=[5,4,-1,7,8]-------------------------------------------------->[5,4,-1,7,8]\n",
    "a=[-2,1,-3,4,-1,2,1,-5,4]--------------------------------------->[4, -1, 2, 1]"
   ]
  },
  {
   "cell_type": "code",
   "execution_count": 95,
   "metadata": {},
   "outputs": [],
   "source": [
    "a=[5,4,-1,7,8]\n"
   ]
  },
  {
   "cell_type": "code",
   "execution_count": 66,
   "metadata": {},
   "outputs": [],
   "source": []
  },
  {
   "cell_type": "code",
   "execution_count": 96,
   "metadata": {},
   "outputs": [
    {
     "data": {
      "text/plain": [
       "([5, 4, -1, 7, 8], 23)"
      ]
     },
     "execution_count": 96,
     "metadata": {},
     "output_type": "execute_result"
    }
   ],
   "source": [
    "brut_max_subarray(a)"
   ]
  },
  {
   "cell_type": "code",
   "execution_count": 237,
   "metadata": {},
   "outputs": [],
   "source": [
    "a=[-2,1,-3,4,-1,2,1,-5,4]"
   ]
  },
  {
   "cell_type": "code",
   "execution_count": 240,
   "metadata": {},
   "outputs": [],
   "source": [
    "def better_max_subarray(a):\n",
    "    if(len(a)==1):\n",
    "        return a[0]\n",
    "    s=0\n",
    "    sum=-2*10**31\n",
    "    start=0\n",
    "    end=len(a)-1\n",
    "    for i in range(len(a)):\n",
    "        if(s==0):\n",
    "            start=i\n",
    "        s+=a[i]\n",
    "        if(sum<s):\n",
    "            sum=s\n",
    "            end=i\n",
    "        if(s<=0):\n",
    "            s=0\n",
    "    return sum,a[start:end+1],start,end"
   ]
  },
  {
   "cell_type": "code",
   "execution_count": 241,
   "metadata": {},
   "outputs": [
    {
     "data": {
      "text/plain": [
       "6"
      ]
     },
     "execution_count": 241,
     "metadata": {},
     "output_type": "execute_result"
    }
   ],
   "source": [
    "better_max_subarray(a)"
   ]
  },
  {
   "cell_type": "code",
   "execution_count": 200,
   "metadata": {},
   "outputs": [],
   "source": [
    "import sys\n",
    "\n",
    "def maxSubarraySum(arr, n):\n",
    "    maxi = -sys.maxsize - 1  # maximum sum\n",
    "    sum = 0\n",
    "\n",
    "    start = 0\n",
    "    ansStart, ansEnd = -1, -1\n",
    "    for i in range(n):\n",
    "\n",
    "        if sum == 0:\n",
    "            start = i  # starting index\n",
    "\n",
    "        sum += arr[i]\n",
    "\n",
    "        if sum > maxi:\n",
    "            maxi = sum\n",
    "\n",
    "            ansStart = start\n",
    "            ansEnd = i\n",
    "\n",
    "        # If sum < 0: discard the sum calculated\n",
    "        if sum < 0:\n",
    "            sum = 0\n",
    "\n",
    "    # printing the subarray:\n",
    "    print(\"The subarray is: [\", end=\"\")\n",
    "    for i in range(ansStart, ansEnd + 1):\n",
    "        print(arr[i], end=\" \")\n",
    "    print(\"]\")\n",
    "\n",
    "    # To consider the sum of the empty subarray\n",
    "    # uncomment the following check:\n",
    "\n",
    "    # if maxi < 0:\n",
    "    #     maxi = 0\n",
    "\n",
    "    return maxi"
   ]
  },
  {
   "cell_type": "code",
   "execution_count": 201,
   "metadata": {},
   "outputs": [
    {
     "name": "stdout",
     "output_type": "stream",
     "text": [
      "The subarray is: [-1 ]\n"
     ]
    },
    {
     "data": {
      "text/plain": [
       "-1"
      ]
     },
     "execution_count": 201,
     "metadata": {},
     "output_type": "execute_result"
    }
   ],
   "source": [
    "maxSubarraySum(a,len(a))"
   ]
  },
  {
   "cell_type": "markdown",
   "metadata": {},
   "source": [
    "majority element"
   ]
  },
  {
   "cell_type": "code",
   "execution_count": 248,
   "metadata": {},
   "outputs": [],
   "source": [
    "def majority_element(nums):\n",
    "    d={}\n",
    "    ans=[]\n",
    "    n=len(nums)\n",
    "    for i in range(n):\n",
    "        if nums[i] in d.keys():\n",
    "            d[nums[i]]+=1\n",
    "        else:\n",
    "            d[nums[i]]=1\n",
    "            \n",
    "    for k in d.keys():\n",
    "        if(d[k]>n//3):\n",
    "            ans.append(k)\n",
    "    return ans"
   ]
  },
  {
   "cell_type": "code",
   "execution_count": 275,
   "metadata": {},
   "outputs": [],
   "source": [
    "def opt_majority_element(nums):\n",
    "    cnt1=0\n",
    "    cnt2=0\n",
    "    elm1=0\n",
    "    elm2=0\n",
    "    n=len(nums)\n",
    "    a=[]\n",
    "    for i in range(n):\n",
    "        if(cnt1==0 and nums[i]!=elm2):\n",
    "            cnt1=1\n",
    "            elm1=nums[i]\n",
    "        elif(cnt2==0 and nums[i]!=elm1):\n",
    "            cnt2=1\n",
    "            elm2=nums[i]\n",
    "        elif(nums[i]==elm1):\n",
    "            cnt1+=1\n",
    "        elif(nums[i]==elm2):\n",
    "            cnt2+=1\n",
    "        else:\n",
    "            cnt1-=1\n",
    "            cnt2-=1\n",
    "    cnt1,cnt2=0,0\n",
    "    for i in range(n):\n",
    "        if(nums[i]==elm1):\n",
    "            cnt1+=1\n",
    "        elif(nums[i]==elm2):\n",
    "            cnt2+=1\n",
    "    if(cnt1 > n//3):\n",
    "        a.append(elm1)\n",
    "    if(cnt2>n//3):\n",
    "        a.append(elm2)\n",
    "    return a"
   ]
  },
  {
   "cell_type": "code",
   "execution_count": 276,
   "metadata": {},
   "outputs": [
    {
     "data": {
      "text/plain": [
       "[1, 2]"
      ]
     },
     "execution_count": 276,
     "metadata": {},
     "output_type": "execute_result"
    }
   ],
   "source": [
    "majority_element([1,2])"
   ]
  },
  {
   "cell_type": "code",
   "execution_count": 277,
   "metadata": {},
   "outputs": [
    {
     "data": {
      "text/plain": [
       "[1]"
      ]
     },
     "execution_count": 277,
     "metadata": {},
     "output_type": "execute_result"
    }
   ],
   "source": [
    "opt_majority_element([2, 1, 1, 3, 1, 4, 5, 6])"
   ]
  },
  {
   "cell_type": "code",
   "execution_count": null,
   "metadata": {},
   "outputs": [],
   "source": []
  }
 ],
 "metadata": {
  "kernelspec": {
   "display_name": "venv",
   "language": "python",
   "name": "python3"
  },
  "language_info": {
   "codemirror_mode": {
    "name": "ipython",
    "version": 3
   },
   "file_extension": ".py",
   "mimetype": "text/x-python",
   "name": "python",
   "nbconvert_exporter": "python",
   "pygments_lexer": "ipython3",
   "version": "3.11.0"
  }
 },
 "nbformat": 4,
 "nbformat_minor": 2
}
